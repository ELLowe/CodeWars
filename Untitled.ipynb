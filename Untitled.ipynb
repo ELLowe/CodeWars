{
 "cells": [
  {
   "cell_type": "code",
   "execution_count": 1,
   "metadata": {},
   "outputs": [],
   "source": [
    "import pandas as pd\n",
    "import matplotlib as mp"
   ]
  },
  {
   "cell_type": "code",
   "execution_count": 7,
   "metadata": {},
   "outputs": [
    {
     "name": "stdout",
     "output_type": "stream",
     "text": [
      "4\n"
     ]
    }
   ],
   "source": [
    "def findOutlier(integers):\n",
    "    output = 0\n",
    "    if (((integers[0]/2) % 1 == 0) or ((integers[1]/2) % 1 == 0)) and (((integers[2]/2) % 1 == 0) or ((integers[3]/2) % 1 == 0)):\n",
    "        for integer in integers:\n",
    "            if ( ((integer)/2) % 1) != 0:\n",
    "                output = integer\n",
    "    else:\n",
    "        for integer in integers:\n",
    "            if ( ((integer+1)/2) % 1) != 0:\n",
    "                output = integer\n",
    "    \n",
    "    return output\n",
    "\n",
    "print(findOutlier([3,5,7,9,13,11,15,4,7,9,21,15,1]))"
   ]
  },
  {
   "cell_type": "code",
   "execution_count": 14,
   "metadata": {},
   "outputs": [
    {
     "name": "stdout",
     "output_type": "stream",
     "text": [
      "4\n"
     ]
    }
   ],
   "source": [
    "def findOutlier2(integers2):\n",
    "    evens = list(filter(lambda x: x % 2 == 0, integers2))\n",
    "    odds = list(filter(lambda x: x % 2 != 0, integers2))\n",
    "    if len(evens) == 1:\n",
    "        return evens[0]\n",
    "    else:\n",
    "        return odds[0]\n",
    "        \n",
    "print(findOutlier2([3,5,7,9,13,11,15,4,7,9,21,15,1]))"
   ]
  },
  {
   "cell_type": "code",
   "execution_count": null,
   "metadata": {},
   "outputs": [],
   "source": []
  }
 ],
 "metadata": {
  "kernelspec": {
   "display_name": "Python 3",
   "language": "python",
   "name": "python3"
  },
  "language_info": {
   "codemirror_mode": {
    "name": "ipython",
    "version": 3
   },
   "file_extension": ".py",
   "mimetype": "text/x-python",
   "name": "python",
   "nbconvert_exporter": "python",
   "pygments_lexer": "ipython3",
   "version": "3.7.1"
  }
 },
 "nbformat": 4,
 "nbformat_minor": 2
}
