{
 "cells": [
  {
   "cell_type": "code",
   "execution_count": 1,
   "metadata": {},
   "outputs": [],
   "source": [
    "import pandas as pd\n",
    "import matplotlib as mp"
   ]
  },
  {
   "cell_type": "code",
   "execution_count": 7,
   "metadata": {},
   "outputs": [
    {
     "name": "stdout",
     "output_type": "stream",
     "text": [
      "4\n"
     ]
    }
   ],
   "source": [
    "def findOutlier(integers):\n",
    "    output = 0\n",
    "    if (((integers[0]/2) % 1 == 0) or ((integers[1]/2) % 1 == 0)) and (((integers[2]/2) % 1 == 0) or ((integers[3]/2) % 1 == 0)):\n",
    "        for integer in integers:\n",
    "            if ( ((integer)/2) % 1) != 0:\n",
    "                output = integer\n",
    "    else:\n",
    "        for integer in integers:\n",
    "            if ( ((integer+1)/2) % 1) != 0:\n",
    "                output = integer\n",
    "    \n",
    "    return output\n",
    "\n",
    "print(findOutlier([3,5,7,9,13,11,15,4,7,9,21,15,1]))"
   ]
  },
  {
   "cell_type": "code",
   "execution_count": 14,
   "metadata": {},
   "outputs": [
    {
     "name": "stdout",
     "output_type": "stream",
     "text": [
      "4\n"
     ]
    }
   ],
   "source": [
    "def findOutlier2(integers2):\n",
    "    evens = list(filter(lambda x: x % 2 == 0, integers2))\n",
    "    odds = list(filter(lambda x: x % 2 != 0, integers2))\n",
    "    if len(evens) == 1:\n",
    "        return evens[0]\n",
    "    else:\n",
    "        return odds[0]\n",
    "        \n",
    "print(findOutlier2([3,5,7,9,13,11,15,4,7,9,21,15,1]))"
   ]
  },
  {
   "cell_type": "code",
   "execution_count": 16,
   "metadata": {},
   "outputs": [
    {
     "data": {
      "text/plain": [
       "\"How Can Mirrors Be Real If Our Eyes Aren't Real\""
      ]
     },
     "execution_count": 16,
     "metadata": {},
     "output_type": "execute_result"
    }
   ],
   "source": [
    "def jadenCased(quotedWords):\n",
    "    splitWords = quotedWords.split()\n",
    "    upperCased = []\n",
    "    for splitWord in splitWords:\n",
    "        capWord = splitWord[0].upper() + splitWord[1:]\n",
    "        upperCased.append(capWord)\n",
    "        x = \" \"\n",
    "    \n",
    "    \n",
    "    return x.join(upperCased)\n",
    "\n",
    "jadenCased(\"How can mirrors be real if our eyes aren't real\")"
   ]
  },
  {
   "cell_type": "code",
   "execution_count": 10,
   "metadata": {},
   "outputs": [
    {
     "data": {
      "text/plain": [
       "'error_printers: 3/22'"
      ]
     },
     "execution_count": 10,
     "metadata": {},
     "output_type": "execute_result"
    }
   ],
   "source": [
    "def printer_error(controlString):\n",
    "    a2m = []\n",
    "    n2z = []\n",
    "    listed = list(controlString)\n",
    "    for index,item in enumerate(listed):\n",
    "        if (item < 'n'):\n",
    "            a2m.append(item)\n",
    "        else:\n",
    "            n2z.append(item)\n",
    "    \n",
    "    return f\"error_printers: {len(n2z)}/{len(listed)}\"\n",
    "\n",
    "\n",
    "printer_error(\"aanbbcccncddefghijklmn\")"
   ]
  },
  {
   "cell_type": "code",
   "execution_count": 15,
   "metadata": {},
   "outputs": [
    {
     "data": {
      "text/plain": [
       "'3/22'"
      ]
     },
     "execution_count": 15,
     "metadata": {},
     "output_type": "execute_result"
    }
   ],
   "source": [
    "def printer_error(s):\n",
    "    a2m = []\n",
    "    n2z = []\n",
    "    listed = list(s)\n",
    "    for index,item in enumerate(listed):\n",
    "        if (item < 'n'):\n",
    "            a2m.append(item)\n",
    "        else:\n",
    "            n2z.append(item)\n",
    "    \n",
    "    return str(len(n2z)) + \"/\" + str(len(listed))\n",
    "printer_error(\"aanbbcccncddefghijklmn\")"
   ]
  },
  {
   "cell_type": "code",
   "execution_count": 4,
   "metadata": {},
   "outputs": [
    {
     "data": {
      "text/plain": [
       "'I  L  O  V  E  L  Y  L  Y  !'"
      ]
     },
     "execution_count": 4,
     "metadata": {},
     "output_type": "execute_result"
    }
   ],
   "source": [
    "def vapor_code(input):\n",
    "    spaceless = input.replace(\" \", \"\")\n",
    "    vaporized = spaceless.upper().replace(\"\",\"  \").strip()\n",
    "\n",
    "    return vaporized\n",
    "\n",
    "vapor_code(\"I love Lyly!\")"
   ]
  },
  {
   "cell_type": "code",
   "execution_count": 12,
   "metadata": {},
   "outputs": [
    {
     "name": "stdout",
     "output_type": "stream",
     "text": [
      "adilnoq\n"
     ]
    }
   ],
   "source": [
    "def sortGiftCode(code):\n",
    "    ordered = sorted(list(code))\n",
    "    return \"\".join( q for q in ordered)\n",
    "\n",
    "print(sortGiftCode(\"oqnidla\"))"
   ]
  },
  {
   "cell_type": "code",
   "execution_count": 34,
   "metadata": {},
   "outputs": [
    {
     "data": {
      "text/plain": [
       "[[1], [1, 1], [1, 1, 1], [1, 1, 1, 1]]"
      ]
     },
     "execution_count": 34,
     "metadata": {},
     "output_type": "execute_result"
    }
   ],
   "source": [
    "def pyramid(value):\n",
    "    block = []\n",
    "    subar = []\n",
    "    for num in range(value):\n",
    "        subar.append(1)\n",
    "        ones = subar[0:(num-1)]\n",
    "        ones.append(1)\n",
    "        value = num\n",
    "        if num > 1:\n",
    "            value = num-1\n",
    "        if value > 0:\n",
    "            ones.append(1)\n",
    "        block.append(ones)\n",
    "    return block\n",
    "pyramid(4)"
   ]
  },
  {
   "cell_type": "code",
   "execution_count": 31,
   "metadata": {},
   "outputs": [
    {
     "name": "stdout",
     "output_type": "stream",
     "text": [
      "None\n"
     ]
    }
   ],
   "source": [
    "def oddInt(a):\n",
    "    sortedArray = sorted(a)\n",
    "    counter = 1\n",
    "    for i in range((len(sortedArray)-1)):\n",
    "        if sortedArray[i] == sortedArray[i+1]:\n",
    "            counter = counter + 1\n",
    "        else:\n",
    "            if counter % 2 != 0:\n",
    "                return sortedArray[i]\n",
    "            else:\n",
    "                counter = 1\n",
    "print(oddInt([9,1,5,9,3,8,6,1,5,3,8,6,9]))"
   ]
  },
  {
   "cell_type": "code",
   "execution_count": 24,
   "metadata": {},
   "outputs": [
    {
     "name": "stdout",
     "output_type": "stream",
     "text": [
      "1\n"
     ]
    }
   ],
   "source": [
    "def oddInt(a):\n",
    "    sortedArray = sorted(a)\n",
    "    listed=[]\n",
    "#     for index,item in enumerate(sortedArray):\n",
    "    for i in range((len(sortedArray)-1)):\n",
    "        if sortedArray[i] == sortedArray[i+1]:\n",
    "            return sortedArray[i]\n",
    "\n",
    "print(oddInt([9,1,5,9,3,8,6,1,5,3,8,6,9]))"
   ]
  },
  {
   "cell_type": "code",
   "execution_count": 9,
   "metadata": {},
   "outputs": [
    {
     "name": "stdout",
     "output_type": "stream",
     "text": [
      "9\n"
     ]
    }
   ],
   "source": [
    "def oddInt2(a):\n",
    "    counter = {}\n",
    "    for item in a:\n",
    "        if item in counter:\n",
    "            counter[item] += 1\n",
    "        else:\n",
    "            counter[item] = 1\n",
    "            \n",
    "    for key in counter:\n",
    "        if counter[key] % 2 != 0:\n",
    "            return key\n",
    "        \n",
    "    return None\n",
    "\n",
    "print(oddInt2([9,1,5,9,3,8,6,1,5,3,8,6,9]))"
   ]
  },
  {
   "cell_type": "code",
   "execution_count": 4,
   "metadata": {},
   "outputs": [
    {
     "name": "stdout",
     "output_type": "stream",
     "text": [
      "9\n"
     ]
    }
   ],
   "source": [
    "def oddInt(a):\n",
    "    sortedArray = sorted(a)\n",
    "    sortedArray.append(0)\n",
    "    counter = 1\n",
    "    for index,item in enumerate(sortedArray):\n",
    "        if index == (len(sortedArray)-1):\n",
    "            break\n",
    "        if sortedArray[index] == sortedArray[index+1]:\n",
    "            counter = counter+1\n",
    "        else:\n",
    "            if counter % 2 != 0:\n",
    "                return sortedArray[index]\n",
    "            else:\n",
    "                counter = 1\n",
    "        \n",
    "print(oddInt([9,1,5,9,3,8,6,1,5,3,8,6,9]))"
   ]
  },
  {
   "cell_type": "code",
   "execution_count": null,
   "metadata": {},
   "outputs": [],
   "source": []
  }
 ],
 "metadata": {
  "kernelspec": {
   "display_name": "Python 3",
   "language": "python",
   "name": "python3"
  },
  "language_info": {
   "codemirror_mode": {
    "name": "ipython",
    "version": 3
   },
   "file_extension": ".py",
   "mimetype": "text/x-python",
   "name": "python",
   "nbconvert_exporter": "python",
   "pygments_lexer": "ipython3",
   "version": "3.7.4"
  }
 },
 "nbformat": 4,
 "nbformat_minor": 2
}
